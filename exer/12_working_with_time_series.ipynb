{
 "cells": [
  {
   "cell_type": "code",
   "execution_count": 4,
   "metadata": {},
   "outputs": [
    {
     "name": "stdout",
     "output_type": "stream",
     "text": [
      "2021-10-28 00:00:00\n",
      "<class 'datetime.datetime'>\n"
     ]
    }
   ],
   "source": [
    "\"\"\"\n",
    "Native Python dates and times\n",
    "\"\"\"\n",
    "\n",
    "from datetime import datetime\n",
    "\n",
    "t = datetime(year=2021, month=10, day=28)\n",
    "print(t)\n",
    "print(type(t))"
   ]
  },
  {
   "cell_type": "code",
   "execution_count": 6,
   "metadata": {},
   "outputs": [
    {
     "name": "stdout",
     "output_type": "stream",
     "text": [
      "2021-10-28 00:00:00\n"
     ]
    }
   ],
   "source": [
    "# Parse a date from a string\n",
    "\n",
    "from dateutil import parser\n",
    "date = parser.parse(\"28th of October, 2021\")\n",
    "print(date)"
   ]
  },
  {
   "cell_type": "code",
   "execution_count": 9,
   "metadata": {},
   "outputs": [
    {
     "data": {
      "text/plain": [
       "'Thursday'"
      ]
     },
     "execution_count": 9,
     "metadata": {},
     "output_type": "execute_result"
    }
   ],
   "source": [
    "# Print the day of the week\n",
    "\n",
    "date.strftime('%A') # 데이터의 어떤 정보 스트링으로 출력. 은근 중요."
   ]
  },
  {
   "cell_type": "code",
   "execution_count": 19,
   "metadata": {},
   "outputs": [
    {
     "name": "stdout",
     "output_type": "stream",
     "text": [
      "2021-10-27T10:11:20\n"
     ]
    }
   ],
   "source": [
    "\"\"\"\n",
    "Types Arrays of Times: NumPy's datetime64\n",
    "\"\"\"\n",
    "\n",
    "import numpy as np\n",
    "\n",
    "# Create datetime64 using array()\n",
    "date = np.array(['2021-10-27', '2021-10-28'], dtype = np.datetime64)\n",
    "type(date[0])\n",
    "\n",
    "# Use datetime64()\n",
    "\n",
    "date = np.datetime64('2021-10-27 10:11:20') # 64비트로 표현한 것\n",
    "print(date)"
   ]
  },
  {
   "cell_type": "code",
   "execution_count": 20,
   "metadata": {},
   "outputs": [
    {
     "data": {
      "text/plain": [
       "array(['2021-10-27T10:11:20', '2021-10-27T10:11:21',\n",
       "       '2021-10-27T10:11:22', '2021-10-27T10:11:23',\n",
       "       '2021-10-27T10:11:24', '2021-10-27T10:11:25',\n",
       "       '2021-10-27T10:11:26'], dtype='datetime64[s]')"
      ]
     },
     "execution_count": 20,
     "metadata": {},
     "output_type": "execute_result"
    }
   ],
   "source": [
    "# We can quickly do vectorized operation on datetime64\n",
    "\n",
    "date + np.arange(7)"
   ]
  },
  {
   "cell_type": "code",
   "execution_count": 23,
   "metadata": {},
   "outputs": [
    {
     "name": "stdout",
     "output_type": "stream",
     "text": [
      "2021-10-27T10:11:20.000000000\n"
     ]
    }
   ],
   "source": [
    "# Nanosecond-based datetime\n",
    "date = np.datetime64('2021-10-27 10:11:20', 'ns')\n",
    "print(date)"
   ]
  },
  {
   "cell_type": "code",
   "execution_count": 27,
   "metadata": {},
   "outputs": [
    {
     "name": "stdout",
     "output_type": "stream",
     "text": [
      "2021-10-27 00:00:00\n",
      "<class 'pandas._libs.tslibs.timestamps.Timestamp'>\n"
     ]
    }
   ],
   "source": [
    "\"\"\"\n",
    "Dates and Times in Pandas\n",
    "\"\"\"\n",
    "\n",
    "import pandas as pd\n",
    "\n",
    "# Parse a string date in pandas\n",
    "\n",
    "date = pd.to_datetime(\"27th of October, 2021\") # pandas에서도 이런 문자열로 제공\n",
    "print(date)\n",
    "print(type(date)) # Timestamp라는 객체로 표현됨"
   ]
  },
  {
   "cell_type": "code",
   "execution_count": 26,
   "metadata": {},
   "outputs": [
    {
     "name": "stdout",
     "output_type": "stream",
     "text": [
      "Wednesday\n"
     ]
    }
   ],
   "source": [
    "# Output the day of th week\n",
    "\n",
    "print(date.strftime('%A')) "
   ]
  },
  {
   "cell_type": "code",
   "execution_count": 30,
   "metadata": {},
   "outputs": [
    {
     "data": {
      "text/plain": [
       "DatetimeIndex([          '2021-10-27 00:00:00',\n",
       "               '2021-10-27 00:00:00.000000001',\n",
       "               '2021-10-27 00:00:00.000000002',\n",
       "               '2021-10-27 00:00:00.000000003',\n",
       "               '2021-10-27 00:00:00.000000004',\n",
       "               '2021-10-27 00:00:00.000000005',\n",
       "               '2021-10-27 00:00:00.000000006',\n",
       "               '2021-10-27 00:00:00.000000007',\n",
       "               '2021-10-27 00:00:00.000000008',\n",
       "               '2021-10-27 00:00:00.000000009',\n",
       "               '2021-10-27 00:00:00.000000010',\n",
       "               '2021-10-27 00:00:00.000000011'],\n",
       "              dtype='datetime64[ns]', freq=None)"
      ]
     },
     "execution_count": 30,
     "metadata": {},
     "output_type": "execute_result"
    }
   ],
   "source": [
    "# NumPy-style vectorized operations\n",
    "\n",
    "date + pd.to_timedelta(np.arange(12)) # timestamp의 배열이 만들어짐(numpy장점 pandas도 가짐)\n",
    "# pandas에서의 timestamp는 index로 사용함"
   ]
  },
  {
   "cell_type": "code",
   "execution_count": 39,
   "metadata": {},
   "outputs": [
    {
     "name": "stdout",
     "output_type": "stream",
     "text": [
      "DatetimeIndex(['2021-10-27', '2021-10-28', '2021-10-29', '2021-10-30',\n",
      "               '2021-10-31', '2021-11-01', '2021-11-02'],\n",
      "              dtype='datetime64[ns]', freq=None)\n",
      "2021-10-27    0\n",
      "2021-10-28    1\n",
      "2021-10-29    2\n",
      "2021-10-30    3\n",
      "2021-10-31    4\n",
      "2021-11-01    5\n",
      "2021-11-02    6\n",
      "dtype: int64\n"
     ]
    }
   ],
   "source": [
    "\"\"\"\n",
    "Pandas Time Series, Indexing by time\n",
    "\"\"\"\n",
    "\n",
    "# Indexing by timestamps\n",
    "ind = pd.DatetimeIndex(['2021-10-27','2021-10-28','2021-10-29','2021-10-30','2021-10-31','2021-11-01','2021-11-02'])\n",
    "\n",
    "print(ind)\n",
    "\n",
    "ser = pd.Series([0,1,2,3,4,5,6], index=ind)\n",
    "print(ser)"
   ]
  },
  {
   "cell_type": "code",
   "execution_count": 40,
   "metadata": {},
   "outputs": [
    {
     "name": "stdout",
     "output_type": "stream",
     "text": [
      "2021-11-01    5\n",
      "2021-11-02    6\n",
      "dtype: int64\n"
     ]
    }
   ],
   "source": [
    "# Indexing patterns\n",
    "print(ser['2021-11']) # 슬라이싱 가능"
   ]
  },
  {
   "cell_type": "code",
   "execution_count": 44,
   "metadata": {},
   "outputs": [
    {
     "name": "stdout",
     "output_type": "stream",
     "text": [
      "DatetimeIndex(['2015-07-03', '2015-07-04', '2015-07-06', '2015-07-07',\n",
      "               '2015-07-08'],\n",
      "              dtype='datetime64[ns]', freq=None)\n"
     ]
    }
   ],
   "source": [
    "\"\"\"\n",
    "Pandas Time Series Data Structures\n",
    "\"\"\"\n",
    "\n",
    "# Timestamp and DatetimeIndex\n",
    "dates = pd.to_datetime([datetime(2015, 7, 3),\n",
    "                       \"4th of July, 2015\",\n",
    "                       '2015-Jul-6',\n",
    "                       '07-07-2015',\n",
    "                       '20150708'])\n",
    "print(dates)"
   ]
  },
  {
   "cell_type": "code",
   "execution_count": 47,
   "metadata": {},
   "outputs": [
    {
     "data": {
      "text/plain": [
       "PeriodIndex(['2015-06-29/2015-07-05', '2015-06-29/2015-07-05',\n",
       "             '2015-07-06/2015-07-12', '2015-07-06/2015-07-12',\n",
       "             '2015-07-06/2015-07-12'],\n",
       "            dtype='period[W-SUN]', freq='W-SUN')"
      ]
     },
     "execution_count": 47,
     "metadata": {},
     "output_type": "execute_result"
    }
   ],
   "source": [
    "# DatetimeIndex -> PeriodIndex with to_period()\n",
    "\n",
    "dates.to_period('W') # 주별로 기간값 표현"
   ]
  },
  {
   "cell_type": "code",
   "execution_count": 49,
   "metadata": {},
   "outputs": [
    {
     "data": {
      "text/plain": [
       "TimedeltaIndex(['0 days', '1 days', '3 days', '4 days', '5 days'], dtype='timedelta64[ns]', freq=None)"
      ]
     },
     "execution_count": 49,
     "metadata": {},
     "output_type": "execute_result"
    }
   ],
   "source": [
    "# TimedeltaIndex\n",
    "dates - dates[0] # 첫 번째 일자와는 차이 없기 때문에 0임"
   ]
  },
  {
   "cell_type": "code",
   "execution_count": 50,
   "metadata": {},
   "outputs": [
    {
     "data": {
      "text/plain": [
       "DatetimeIndex(['2021-10-27', '2021-10-28', '2021-10-29', '2021-10-30',\n",
       "               '2021-10-31'],\n",
       "              dtype='datetime64[ns]', freq='D')"
      ]
     },
     "execution_count": 50,
     "metadata": {},
     "output_type": "execute_result"
    }
   ],
   "source": [
    "\"\"\"\n",
    "Regular Sequences\n",
    "\"\"\"\n",
    "\n",
    "# pd.date_range(), default freq: day\n",
    "pd.date_range('2021-10-27', '2021-10-31')"
   ]
  },
  {
   "cell_type": "code",
   "execution_count": 54,
   "metadata": {},
   "outputs": [
    {
     "data": {
      "text/plain": [
       "DatetimeIndex(['2021-10-27', '2021-10-28', '2021-10-29', '2021-10-30',\n",
       "               '2021-10-31'],\n",
       "              dtype='datetime64[ns]', freq='D')"
      ]
     },
     "execution_count": 54,
     "metadata": {},
     "output_type": "execute_result"
    }
   ],
   "source": [
    "# Use startpoint and num. of periods\n",
    "pd.date_range('2021-10-27', periods=5) # Pandas에서 제공하는 timestamp객체는 아님 호환되는 것일 뿐"
   ]
  },
  {
   "cell_type": "code",
   "execution_count": null,
   "metadata": {},
   "outputs": [],
   "source": []
  }
 ],
 "metadata": {
  "kernelspec": {
   "display_name": "Python 3",
   "language": "python",
   "name": "python3"
  },
  "language_info": {
   "codemirror_mode": {
    "name": "ipython",
    "version": 3
   },
   "file_extension": ".py",
   "mimetype": "text/x-python",
   "name": "python",
   "nbconvert_exporter": "python",
   "pygments_lexer": "ipython3",
   "version": "3.8.5"
  }
 },
 "nbformat": 4,
 "nbformat_minor": 4
}
