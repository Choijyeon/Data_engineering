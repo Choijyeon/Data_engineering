{
 "cells": [
  {
   "cell_type": "code",
   "execution_count": 10,
   "metadata": {},
   "outputs": [
    {
     "name": "stdout",
     "output_type": "stream",
     "text": [
      "<class 'bool'>\n",
      "<class 'int'>\n",
      "<class 'float'>\n",
      "<class 'str'>\n"
     ]
    }
   ],
   "source": [
    "\"\"\"\n",
    "boolean variables\n",
    "\"\"\"\n",
    "is_tested = False\n",
    "type(is_tested) # 변수의 타입명 bool 출력\n",
    "print(type(is_tested)) # 더 자세한건 print함수로 감싸줘서 출력하면 is_tested가 bool에 포함된다는거 알 수 있음\n",
    "\n",
    "a = 3\n",
    "print(type(a))\n",
    "\n",
    "a = 3.14\n",
    "print(type(a))\n",
    "\n",
    "a = \"3.14\"\n",
    "print(type(a))"
   ]
  },
  {
   "cell_type": "code",
   "execution_count": 13,
   "metadata": {},
   "outputs": [
    {
     "name": "stdout",
     "output_type": "stream",
     "text": [
      "True\n",
      "True\n",
      "False\n"
     ]
    }
   ],
   "source": [
    "#Exercise / 관계연산의 값은 언제나 boolean\n",
    "\n",
    "# 1\n",
    "print(\"Yes\" == 'Yes')\n",
    "\n",
    "# 2 \n",
    "print((2 > 1) == (5 < 10))\n",
    "\n",
    "# True와 True로, 값이 같기 때문에 True\n",
    "\n",
    "# 3\n",
    "c = '2'\n",
    "d = 2\n",
    "\n",
    "print(c == d)\n",
    "# 문자 2를 표현하기 위해 ASCI코드표가 있음. \n",
    "# ASCI코드는 기본적인 문자, 숫자, 특수문자 표현하기위한 코드 제공\n",
    "# 숫자 2는 10인데 문자 2는 ASCI코드에서 숫자 2와 같지 않음.cccc\n"
   ]
  },
  {
   "cell_type": "code",
   "execution_count": 14,
   "metadata": {},
   "outputs": [
    {
     "name": "stdout",
     "output_type": "stream",
     "text": [
      "True\n",
      "True\n",
      "True\n"
     ]
    }
   ],
   "source": [
    "# 1\n",
    "print(\"Yes\" != \"No\")\n",
    "\n",
    "# 2\n",
    "val1 = 10\n",
    "val2 = 20\n",
    "print(val1 != val2)\n",
    "\n",
    "# 3\n",
    "print((10 > 1) != (10 > 1000))"
   ]
  },
  {
   "cell_type": "code",
   "execution_count": 17,
   "metadata": {},
   "outputs": [
    {
     "name": "stdout",
     "output_type": "stream",
     "text": [
      "말티푸\n",
      "True\n"
     ]
    }
   ],
   "source": [
    "\"\"\"\n",
    "conditional statements (if / elif / else)\n",
    "\"\"\"\n",
    "\n",
    "puppy = \"maltepoo\" \n",
    "age = 1\n",
    "is_yes = False\n",
    " \n",
    "if puppy == \"maltese\":\n",
    "    print(\"말티즈\")\n",
    "    is_yes = True\n",
    "    \n",
    "    if age < 3:\n",
    "        print(\"말티즈 새끼\")\n",
    "elif puppy == \"poodle\":\n",
    "    is_yes = True\n",
    "    \n",
    "elif puppy == \"shitzu\":\n",
    "    print(\"시츄\")\n",
    "    if_yes = True\n",
    "    \n",
    "else:\n",
    "    print(\"말티푸\")\n",
    "    is_yes = True\n",
    "    \n",
    "print(is_yes)"
   ]
  },
  {
   "cell_type": "code",
   "execution_count": 19,
   "metadata": {},
   "outputs": [
    {
     "name": "stdout",
     "output_type": "stream",
     "text": [
      "[Error]\n",
      "continue...\n"
     ]
    }
   ],
   "source": [
    "\"\"\"\n",
    "Exception Handling\n",
    "\"\"\"\n",
    "# try문에서 에러 발생하면 에러 발생한 다음의 코드들은 실행되지않음. => print(x) 실행안됨 \n",
    "# except문이 출력만(오류발생했다는) 해주는 것이 아니라 다른 변수값을 수정해주는 것과 같은 로직의 코드 작성하기도 함\n",
    "\n",
    "x = 1\n",
    "\n",
    "try:\n",
    "    print(y)\n",
    "    print(x)\n",
    "    \n",
    "except:\n",
    "    print('[Error]')\n",
    "    \n",
    "print(\"continue...\")"
   ]
  }
 ],
 "metadata": {
  "kernelspec": {
   "display_name": "Python 3",
   "language": "python",
   "name": "python3"
  },
  "language_info": {
   "codemirror_mode": {
    "name": "ipython",
    "version": 3
   },
   "file_extension": ".py",
   "mimetype": "text/x-python",
   "name": "python",
   "nbconvert_exporter": "python",
   "pygments_lexer": "ipython3",
   "version": "3.8.5"
  }
 },
 "nbformat": 4,
 "nbformat_minor": 4
}
