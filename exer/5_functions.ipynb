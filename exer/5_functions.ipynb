{
 "cells": [
  {
   "cell_type": "code",
   "execution_count": 1,
   "metadata": {},
   "outputs": [
    {
     "name": "stdout",
     "output_type": "stream",
     "text": [
      "4\n"
     ]
    }
   ],
   "source": [
    "\"\"\"\n",
    "Functions cs Method\n",
    "\"\"\"\n",
    "\n",
    "def my_function(x):\n",
    "    return x+1\n",
    "\n",
    "my_function(2)\n",
    "\n",
    "y = 3\n",
    "result = my_function(y)\n",
    "print(result)\n",
    "\n",
    "x = 1\n",
    "\n",
    "class my_class: # class먼저 정의 해줘야함\n",
    "    def my_method(self): # 기본적으로 class 밑에 method 정의할 떄는 매개변수 따로 받지 않고 self라고 씀\n",
    "        return x+1\n",
    "    \n",
    "# method 이용하기 위해서는 바로 사용할 수 없고 class의 객체(인스턴스, object)를 만들어줘야함.\n",
    "cls = my_class() # cls는 my_class가 갖고있는 속성과 method를 가지고 있기 때문에 호출할 수 있음\n",
    "cls.my_method() # class 밖에 x값을 선언해줘야함.\n",
    "\n",
    "    "
   ]
  },
  {
   "cell_type": "code",
   "execution_count": 5,
   "metadata": {},
   "outputs": [
    {
     "name": "stdout",
     "output_type": "stream",
     "text": [
      "Hello everyone, My name is Jihyeon Choi, I was born in 2000, and I live in Seoul\n"
     ]
    }
   ],
   "source": [
    "\"\"\"\n",
    "Function Parameters\n",
    "\"\"\"\n",
    "\n",
    "def introduce_myself(name, birthyear, city): # parameter\n",
    "    print(\"Hello everyone, My name is %s, I was born in %d, and I live in %s\" \\\n",
    "         %(name, birthyear, city))\n",
    "    \n",
    "introduce_myself(\"Jihyeon Choi\", 2000, \"Seoul\") # 함수 호출했을 떄 넣어주는 입력값들을 argument(인자)라고 함\n",
    "\n",
    "# name = Jihyeon Choi처럼 name에 입력한 것이 할당되는 것과 같은 효과"
   ]
  },
  {
   "cell_type": "code",
   "execution_count": 7,
   "metadata": {},
   "outputs": [
    {
     "data": {
      "text/plain": [
       "'2020 is a leap year'"
      ]
     },
     "execution_count": 7,
     "metadata": {},
     "output_type": "execute_result"
    }
   ],
   "source": [
    "\"\"\"\n",
    "Return Keyword\n",
    "\"\"\"\n",
    "# Leap year = 윤년 (2월 29일)\n",
    "# 정수값 입력했을 때 그 해가 윤년인지 아닌지 판별하는 함수를 만들어보자\n",
    "def check_leap_year(year):\n",
    "    if year % 4 == 0:\n",
    "        return \"%s is a leap year\" % (year)\n",
    "    else:\n",
    "        return \"%s is not a leap year.\" % (year)\n",
    "\n",
    "    # 함수 내에 return 여러 번 사용 가능. \n",
    "    # if문의 코드와 else문의 코드가 독립적이기 때문. 둘 중에 하나만 실행 > 독립적인 제어흐름을 가짐\n",
    "    \n",
    "check_leap_year(2020)\n",
    "\n",
    "# result = check_leap_year(2020)하고 print로 출력하는 것도 가능"
   ]
  },
  {
   "cell_type": "code",
   "execution_count": 9,
   "metadata": {},
   "outputs": [
    {
     "name": "stdout",
     "output_type": "stream",
     "text": [
      "9 16 25\n"
     ]
    }
   ],
   "source": [
    "\"\"\"\n",
    "Returning Multiple Values\n",
    "\"\"\"\n",
    "\n",
    "# 3차원 좌표의 좌표값을 각각 제곱해서 리턴하기\n",
    "def square_point(x, y, z):\n",
    "    x_squared = x ** 2 \n",
    "    y_squared = y ** 2\n",
    "    z_squared = z ** 2\n",
    "    return x_squared, y_squared, z_squared\n",
    "\n",
    "three_squared, four_squared, five_squared = square_point(3, 4, 5)\n",
    "print(three_squared, four_squared, five_squared)"
   ]
  },
  {
   "cell_type": "code",
   "execution_count": 12,
   "metadata": {},
   "outputs": [
    {
     "name": "stdout",
     "output_type": "stream",
     "text": [
      "Hello\n"
     ]
    }
   ],
   "source": [
    "\"\"\"\n",
    "Gloval variable\n",
    "\"\"\"\n",
    "\n",
    "a = \"Hello\" # a는 gloval var이기 때문에 함수 안밖에서 접근 가능\n",
    "\n",
    "def prints_a(): # a값 호출하는 함수\n",
    "    print(a)\n",
    "    \n",
    "prints_a()"
   ]
  },
  {
   "cell_type": "code",
   "execution_count": 11,
   "metadata": {},
   "outputs": [
    {
     "name": "stdout",
     "output_type": "stream",
     "text": [
      "3\n",
      "2\n"
     ]
    }
   ],
   "source": [
    "\"\"\"\n",
    "Local variable\n",
    "\"\"\"\n",
    "\n",
    "b = 2 # global var.\n",
    "\n",
    "def f1():\n",
    "    b = 3 # local var. 전역변수 지역변수 있으면 함수 내에서는 지역변수 우선참조. 없으면 전역변수\n",
    "    print(b)\n",
    "    \n",
    "f1()\n",
    "print(b) # 함수 밖에서는 지역변수가 뭐가 있는지 모르기 때문에 name error 발생\n",
    "\n",
    "# 지역변수는 함수가 종료하게되면 함수와 함께 사라짐  "
   ]
  },
  {
   "cell_type": "code",
   "execution_count": 16,
   "metadata": {},
   "outputs": [
    {
     "name": "stdout",
     "output_type": "stream",
     "text": [
      "Height = 1\n",
      "Width = 2\n",
      "Depth = 3\n",
      "6\n",
      "Height = 1\n",
      "Width = 2\n",
      "Depth = 4\n",
      "8\n"
     ]
    }
   ],
   "source": [
    "\"\"\"\n",
    "Keyword Arguments and Default Values\n",
    "\"\"\"\n",
    "\n",
    "# 도형의 부피 구하기\n",
    "\n",
    "def findvolume(height, width, depth=3):\n",
    "    print(\"Height = %s\" % (height))\n",
    "    print(\"Width = %s\" % (width))\n",
    "    print(\"Depth = %s\" % (depth))\n",
    "    return height * width * depth\n",
    "\n",
    "# ex: height = 1, width = 2, depth = 3\n",
    "# print(findvolume(2, 1, 3)) # 위 ex의 순서에 맞게 값 넣어야 하는데 실수. 이것도 일종의 버그\n",
    "print(findvolume(width=2, height=1, depth=3)) # 키워드 인자 이용해서 헷갈리지않게 하는게 좋음\n",
    "\n",
    "# 만약 findvolume에 매개변수 3개 정의해놨는데 하나를 빼먹으면? type error 발생\n",
    "# 값을 다른 값으로 setup해주면(ex. depth를 4로) 인자로 넣어준 값으로 계산함\n",
    "print(findvolume(width=2, height=1, depth=4))"
   ]
  }
 ],
 "metadata": {
  "kernelspec": {
   "display_name": "Python 3",
   "language": "python",
   "name": "python3"
  },
  "language_info": {
   "codemirror_mode": {
    "name": "ipython",
    "version": 3
   },
   "file_extension": ".py",
   "mimetype": "text/x-python",
   "name": "python",
   "nbconvert_exporter": "python",
   "pygments_lexer": "ipython3",
   "version": "3.8.5"
  }
 },
 "nbformat": 4,
 "nbformat_minor": 4
}
