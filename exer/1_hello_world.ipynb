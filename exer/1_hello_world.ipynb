{
 "cells": [
  {
   "cell_type": "code",
   "execution_count": 7,
   "metadata": {},
   "outputs": [
    {
     "name": "stdout",
     "output_type": "stream",
     "text": [
      "Hello World\n",
      "100\n",
      "3.14\n",
      "My name is Hyun Ahn?\n"
     ]
    }
   ],
   "source": [
    "\"\"\"\n",
    "print() function\n",
    "\"\"\"\n",
    "\n",
    "print(\"Hello World\") #ctrl+enter 코드 실행 #shift+enter 새로운 셀 생성\n",
    "print(100)\n",
    "pi = 3.14\n",
    "print(pi)\n",
    "\n",
    "intro = \"My name is \"\n",
    "name = \"Hyun Ahn\"\n",
    "\n",
    "print(intro + name + \"?\")"
   ]
  },
  {
   "cell_type": "code",
   "execution_count": 17,
   "metadata": {},
   "outputs": [],
   "source": [
    "\"\"\"\n",
    "Variables\n",
    "\"\"\"\n",
    "\n",
    "#본인을 표현할 수 있는 세 가지 이상의 정보를 변수로 정의하시오.\n",
    "\n",
    "user_name = \"Choi jihyeon\"\n",
    "user_residence = \"Songpa\"\n",
    "user_sex = \"women\"\n",
    "user_age = \"22\"\n",
    "is_grade3 = True"
   ]
  },
  {
   "cell_type": "code",
   "execution_count": 19,
   "metadata": {},
   "outputs": [],
   "source": [
    "\"\"\"\n",
    "Data Types: Integers\n",
    "\"\"\"\n",
    "\n",
    "Chairs = 4\n",
    "tables = 1\n",
    "broken_chairs = -2\n",
    "sofas = 0\n",
    "\n",
    "#본인의 집에 있는 사물의 개수를 정수 유형의 변수로 정의하시요(세 가지 이상)\n",
    "air_conditioner = 1\n",
    "air_fryer = 2\n",
    "coffeepot = 2\n",
    "drier = 3\n",
    "broken_drier = -1"
   ]
  },
  {
   "cell_type": "code",
   "execution_count": 20,
   "metadata": {},
   "outputs": [],
   "source": [
    "\"\"\"\n",
    "Data Types: Real Numbers\n",
    "\"\"\"\n",
    "\n",
    "Pi = 3.14\n",
    "kospi_index = 3125.76\n",
    "krw_usd_exchange = 1176.83\n",
    "\n",
    "#본인이 알고 있는 실수를 변수로 정의하시오(세 가지 이상)\n",
    "kosdak_index = 1035.83\n",
    "body_heat = 36.5\n",
    "height = 161.8"
   ]
  },
  {
   "cell_type": "code",
   "execution_count": 22,
   "metadata": {},
   "outputs": [],
   "source": [
    "\"\"\"\n",
    "Data Types: Strings\n",
    "\"\"\"\n",
    "\n",
    "favorite_motto = \"Chance favors the prepared mind.\"\n",
    "favorite_game = \"Elder scrolls\"\n",
    "favorite_athlete = 'Sonny'\n",
    "\n",
    "#본인의 좋아하는 것들을 문자열 변수로 정의하시오.\n",
    "\n",
    "favorite_movie = \"Green book\"\n",
    "latest_good_movie = \"Coda\"\n",
    "favorite_class = \"Data engineering\""
   ]
  },
  {
   "cell_type": "code",
   "execution_count": 23,
   "metadata": {},
   "outputs": [],
   "source": [
    "\"\"\"\n",
    "Plus_Equals Operations\n",
    "\"\"\"\n",
    "\n",
    "a = 8\n",
    "a += 2 "
   ]
  },
  {
   "cell_type": "code",
   "execution_count": 27,
   "metadata": {},
   "outputs": [
    {
     "ename": "NameError",
     "evalue": "name 'universe' is not defined",
     "output_type": "error",
     "traceback": [
      "\u001b[1;31m---------------------------------------------------------------------------\u001b[0m",
      "\u001b[1;31mNameError\u001b[0m                                 Traceback (most recent call last)",
      "\u001b[1;32m<ipython-input-27-b2bf811ef4f4>\u001b[0m in \u001b[0;36m<module>\u001b[1;34m\u001b[0m\n\u001b[0;32m      6\u001b[0m \u001b[1;33m\u001b[0m\u001b[0m\n\u001b[0;32m      7\u001b[0m \u001b[0mmy_school\u001b[0m \u001b[1;33m=\u001b[0m \u001b[1;34m\"HSU\"\u001b[0m\u001b[1;33m\u001b[0m\u001b[1;33m\u001b[0m\u001b[0m\n\u001b[1;32m----> 8\u001b[1;33m \u001b[0mprint\u001b[0m\u001b[1;33m(\u001b[0m\u001b[0muniverse\u001b[0m\u001b[1;33m)\u001b[0m\u001b[1;33m\u001b[0m\u001b[1;33m\u001b[0m\u001b[0m\n\u001b[0m",
      "\u001b[1;31mNameError\u001b[0m: name 'universe' is not defined"
     ]
    }
   ],
   "source": [
    "\"\"\"\n",
    "Errors\n",
    "\"\"\"\n",
    "\n",
    "# Name Errors\n",
    "\n",
    "my_school = \"HSU\"\n",
    "print(universe)"
   ]
  },
  {
   "cell_type": "markdown",
   "metadata": {},
   "source": [
    "ESC는 명령어 모드\n",
    "m 누르면 문서 모드"
   ]
  },
  {
   "cell_type": "code",
   "execution_count": 2,
   "metadata": {},
   "outputs": [
    {
     "name": "stdout",
     "output_type": "stream",
     "text": [
      "True\n",
      "True\n",
      "False\n"
     ]
    }
   ],
   "source": [
    "#Exercise\n",
    "\n",
    "print(\"Yes\" == 'Yes')\n",
    "\n",
    "print((2 > 1) == (5 < 10))\n",
    "\n",
    "c = '2'\n",
    "d = 2\n",
    "print(c == d)"
   ]
  },
  {
   "cell_type": "code",
   "execution_count": 3,
   "metadata": {},
   "outputs": [],
   "source": [
    "\"\"\"\n",
    "conditional statements\n",
    "\"\"\"\n",
    "\n",
    "puppy = \"maltepoo\"\n",
    "age = 1\n",
    "is_yes = False\n",
    "\n",
    "if puppy == \"malteese\":\n",
    "    is_yes = True\n",
    "    print(\"말티즈 맞아요.\")\n",
    "    if age < 3:\n",
    "        print(\"말티즈 새끼예요\")\n",
    "    \n",
    "elif puppy == \"poodle\":\n",
    "    is_yes = True\n",
    "    print(\"푸들 맞아요.\")\n"
   ]
  },
  {
   "cell_type": "code",
   "execution_count": 4,
   "metadata": {},
   "outputs": [
    {
     "name": "stdout",
     "output_type": "stream",
     "text": [
      "[Error]\n",
      "continue...\n"
     ]
    }
   ],
   "source": [
    "\"Exception Handling\"\n",
    "\n",
    "x = 1\n",
    "\n",
    "try:\n",
    "    print(y)\n",
    "    print(x)\n",
    "except:\n",
    "    print('[Error]')\n",
    "    \n",
    "print(\"continue...\")    "
   ]
  },
  {
   "cell_type": "code",
   "execution_count": null,
   "metadata": {},
   "outputs": [],
   "source": []
  },
  {
   "cell_type": "code",
   "execution_count": null,
   "metadata": {},
   "outputs": [],
   "source": []
  }
 ],
 "metadata": {
  "kernelspec": {
   "display_name": "Python 3",
   "language": "python",
   "name": "python3"
  },
  "language_info": {
   "codemirror_mode": {
    "name": "ipython",
    "version": 3
   },
   "file_extension": ".py",
   "mimetype": "text/x-python",
   "name": "python",
   "nbconvert_exporter": "python",
   "pygments_lexer": "ipython3",
   "version": "3.8.5"
  }
 },
 "nbformat": 4,
 "nbformat_minor": 4
}
