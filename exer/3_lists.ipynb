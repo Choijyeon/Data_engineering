{
 "cells": [
  {
   "cell_type": "code",
   "execution_count": 2,
   "metadata": {},
   "outputs": [
    {
     "name": "stdout",
     "output_type": "stream",
     "text": [
      "[2, 3, 5, 7, 11, 2]\n",
      "[]\n"
     ]
    }
   ],
   "source": [
    "\"\"\"\n",
    "Lists\n",
    "\"\"\"\n",
    "\n",
    "primes = [2, 3, 5, 7, 11, 2] # 아이템 중복 허용 / 파이썬 dictionary는 X, 자바set은 X\n",
    "print(primes)\n",
    "\n",
    "empty_list = [] # 빈 리스트\n",
    "print(empty_list)"
   ]
  },
  {
   "cell_type": "code",
   "execution_count": 5,
   "metadata": {},
   "outputs": [
    {
     "name": "stdout",
     "output_type": "stream",
     "text": [
      "['Jenny', 1, 1.4, True]\n"
     ]
    }
   ],
   "source": [
    "\"\"\"\n",
    "Multiple different data types\n",
    "\"\"\"\n",
    "# C에도 array가 있지만 한 개 타입의 아이템만 허용함(파이썬은 여러 타입 가능)\n",
    "numbers = [1, 2, 3, 4, 10]\n",
    "names = ['Jenny', 'Sam', 'Alexsis']\n",
    "mixed = ['Jenny', 1, 1.4, True]\n",
    "list_of_lists = [['a', 1], ['b', 2]] #list 안의 List = sub list\n",
    "print(mixed)"
   ]
  },
  {
   "cell_type": "code",
   "execution_count": 2,
   "metadata": {},
   "outputs": [
    {
     "name": "stdout",
     "output_type": "stream",
     "text": [
      "Rogar\n",
      "Rafael\n",
      "Andy\n",
      "Novak\n"
     ]
    }
   ],
   "source": [
    "\"\"\"\n",
    "Zero-indexing\n",
    "\"\"\"\n",
    "#첫 번째 아이템을 zero로 정하고 순서대로 인덱싱\n",
    "\n",
    "names = ['Rogar', 'Rafael', 'Andy', 'Novak']\n",
    "\n",
    "print(names[0]) # first data\n",
    "print(names[1])\n",
    "print(names[2])\n",
    "print(names[3])"
   ]
  },
  {
   "cell_type": "code",
   "execution_count": 4,
   "metadata": {
    "scrolled": true
   },
   "outputs": [
    {
     "name": "stdout",
     "output_type": "stream",
     "text": [
      "Novak\n",
      "Andy\n",
      "Rafael\n",
      "Rogar\n"
     ]
    }
   ],
   "source": [
    "\"\"\"\n",
    "Negative indexing\n",
    "\"\"\"\n",
    "print(names[-1]) # Last data\n",
    "print(names[-2]) # second to Last data data\n",
    "print(names[-3]) # thired to Last data\n",
    "print(names[-4])"
   ]
  },
  {
   "cell_type": "code",
   "execution_count": 14,
   "metadata": {},
   "outputs": [
    {
     "name": "stdout",
     "output_type": "stream",
     "text": [
      "['장공관', '필헌관', '소통관']\n",
      "['생활관', '필헌관', '소통관']\n",
      "['만우관', '장공관', '필헌관', '소통관', '송암관', '늦봄관', '장준하통일관']\n",
      "['만우관', '장공관', '필헌관', '소통관', '송암관', '늦봄관', '장준하통일관']\n"
     ]
    }
   ],
   "source": [
    "\"\"\"\n",
    "List slicing\n",
    "\"\"\"\n",
    "hsu_buildings = ['만우관', '장공관', '필헌관', '소통관', '송암관', '늦봄관', '장준하통일관']\n",
    "building_slice = hsu_buildings[1:4] \n",
    "# 주의! end index는 포함되지않음 / [:4]하면 처음 ~ 3번째 아이템 / hsu_buildings에서 나왔지만 별도의 객체가 되기 때문에 아이템 수정해도 원본은 그대로\n",
    "\n",
    "print(building_slice)\n",
    "\n",
    "building_slice[0] = '생활관' # 장공관을 생활관으로 바꿔줌\n",
    "\n",
    "print(building_slice)\n",
    "print(hsu_buildings) # 원본 변화없음\n",
    "print(hsu_buildings[:]) # 사실상 리스트 이름 넣으면 전체 출력하니까  의미 없음"
   ]
  },
  {
   "cell_type": "code",
   "execution_count": 19,
   "metadata": {},
   "outputs": [
    {
     "name": "stdout",
     "output_type": "stream",
     "text": [
      "[['해우리', '한식', '고S'], ['짜장명가', '중식', '중화비빔밥'], ['찌개동아리', '한식', '제육전골'], ['맘스터치', '양식', '싸이버거']]\n",
      "중화비빔밥\n",
      "['해우리', '한식', '해우라면']\n"
     ]
    }
   ],
   "source": [
    "\"\"\"\n",
    "Multi-dimensional Lists\n",
    "\"\"\"\n",
    "\n",
    "restaurants = [['해우리', '한식', '고S'], ['짜장명가', '중식', '중화비빔밥'],\n",
    "               ['찌개동아리', '한식', '제육전골'], ['맘스터치', '양식', '싸이버거']]\n",
    "\n",
    "print(restaurants)\n",
    "\n",
    "print(restaurants[1][2]) # 첫 번째가 sublist, 두 번째가 element\n",
    "\n",
    "restaurants[0][2] = '해우라면'\n",
    "print(restaurants[0]) # 첫 번째 sublist의 인덱스만 출력"
   ]
  },
  {
   "cell_type": "code",
   "execution_count": 20,
   "metadata": {},
   "outputs": [
    {
     "name": "stdout",
     "output_type": "stream",
     "text": [
      "['cake', 'cookie', 'bread', 'biscuit', 'tart']\n"
     ]
    }
   ],
   "source": [
    "\"\"\"\n",
    "Adding Lists Together\n",
    "\"\"\"\n",
    "\n",
    "items_one = ['cake', 'cookie', 'bread']\n",
    "items_two = ['biscuit', 'tart']\n",
    "\n",
    "total_items = items_one + items_two\n",
    "print(total_items)\n",
    "\n",
    "# 현재 + 연산으로는 두 개의 리스트를 더하는 연산만 가능. 개별 아이템 추가는 불가 "
   ]
  },
  {
   "cell_type": "code",
   "execution_count": 35,
   "metadata": {},
   "outputs": [
    {
     "name": "stdout",
     "output_type": "stream",
     "text": [
      "5\n",
      "3\n",
      "['daisies', 'periwinkle', 'tulips']\n",
      "['Karla', 'Maxium', 'Vikor', 'Martin', 'Isabella']\n",
      "['C Programming', 'Calculus', 'Data Structures', 'Maching Learning']\n",
      "['C Programming', 'Calculus', 'Data Structures']\n",
      "['C Programming', 'Data Structures']\n",
      "[1, 2, 3, 4]\n",
      "['늦봄관', '만우관', '소통관', '송암관', '장공관', '장준하통일관', '필헌관']\n",
      "[1, 2, 3, 4]\n"
     ]
    }
   ],
   "source": [
    "\"\"\"\n",
    "Useful Methods for Lists\n",
    "\"\"\"\n",
    "# 함수나 메소드는 같은 개념\n",
    "\n",
    "# Len() 리스트 크기 리턴\n",
    "# 사용법 : len(list)\n",
    "\n",
    "knapsack = [2, 4, 3, 7, 10]\n",
    "size = len(knapsack)\n",
    "print(size)\n",
    "\n",
    "# count() 특정 아이템 개수 리턴\n",
    "# 사용법 : list.count(item)\n",
    "\n",
    "backpack = ['pencil', 'pen', 'notebook', 'textbook', 'pen', 'highlighter', 'pen']\n",
    "numPen = backpack.count('pen')\n",
    "print(numPen)\n",
    "\n",
    "# append() 아이템을 리스트 끝에 추가\n",
    "# 사용법 : list.append(item)\n",
    "orders = ['daisies', 'periwinkle']\n",
    "orders.append('tulips')\n",
    "\n",
    "print(orders)\n",
    "\n",
    "# insert() 아이템을 리스트의 특정 위치에 추가\n",
    "# 사용법 : list.insert(index, item)  index가 추가하고자 하는 위치, item이 추가하고자 하는 아이템\n",
    "store_line = ['Karla', 'Maxium', 'Martin', 'Isabella']\n",
    "store_line.insert(2, 'Vikor') # VIkor가 줄 서있는 데 2번째 위치에 끼려는 것\n",
    "print(store_line)\n",
    "\n",
    "# pop() 특정 위치 아이템 삭제\n",
    "# 사용법 : list.pop(index)\n",
    "\n",
    "sw_subjects = ['C Programming', 'Calculus', 'Data Engineering', 'Data Structures', 'Maching Learning']\n",
    "sw_subjects.pop(2)\n",
    "print(sw_subjects)\n",
    "\n",
    "sw_subjects.pop() # 만약 index값 자리에 아무것도 안넣으면 default 액션으로 마지막 아이템 삭제함\n",
    "print(sw_subjects) \n",
    "\n",
    "# remove() 특정 아이템을 직접 삭제(인덱스값 사용하지 않고)\n",
    "# 사용법 : list.remove(item)\n",
    "\n",
    "sw_subjects.remove('Calculus')\n",
    "print(sw_subjects)\n",
    "# sw_subjects.remove('Algorithms') # 없는 아이템 삭제하려고 하면?  \n",
    "# print(sw_subjects) # 오류 발생 => x not in list\n",
    "\n",
    "# sort() 리스트 내 아이템들을 정렬\n",
    "# 사용법 : list.sort() \n",
    "\n",
    "numbers = [4, 2, 1, 3]\n",
    "numbers.sort()\n",
    "print(numbers)\n",
    "\n",
    "hsu_buildings = ['만우관', '장공관', '필헌관', '소통관', '송암관', '늦봄관', '장준하통일관']\n",
    "hsu_buildings.sort()  \n",
    "print(hsu_buildings) # 한글 자음 순서대로 정렬(영어의 경우에도 알파벳 순서대로 정렬) 오름차순\n",
    "\n",
    "# sorted() 정렬된 리스트 리턴\n",
    "# 사용법 : sorted_list = sorted(list)\n",
    "\n",
    "numbers = [4, 2, 1, 3]\n",
    "sorted_numbers = sorted(numbers)\n",
    "print(sorted_numbers)"
   ]
  }
 ],
 "metadata": {
  "kernelspec": {
   "display_name": "Python 3",
   "language": "python",
   "name": "python3"
  },
  "language_info": {
   "codemirror_mode": {
    "name": "ipython",
    "version": 3
   },
   "file_extension": ".py",
   "mimetype": "text/x-python",
   "name": "python",
   "nbconvert_exporter": "python",
   "pygments_lexer": "ipython3",
   "version": "3.8.5"
  }
 },
 "nbformat": 4,
 "nbformat_minor": 4
}
