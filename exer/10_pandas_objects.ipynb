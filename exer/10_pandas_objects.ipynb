{
 "cells": [
  {
   "cell_type": "markdown",
   "metadata": {},
   "source": [
    "Numpy는 수치연산, ndarray는 벡터화된 연산\n",
    "\n",
    "Numpy에서의 핵심 객체가 ndarray\n",
    "Pandas에서의 핵심 객체는 DataFrame과 Series"
   ]
  },
  {
   "cell_type": "code",
   "execution_count": 2,
   "metadata": {},
   "outputs": [],
   "source": [
    "# pip install pandas -> pandas 설치 명령어"
   ]
  },
  {
   "cell_type": "code",
   "execution_count": 3,
   "metadata": {},
   "outputs": [],
   "source": [
    "import pandas as pd\n",
    "import numpy as np"
   ]
  },
  {
   "cell_type": "code",
   "execution_count": 4,
   "metadata": {},
   "outputs": [],
   "source": [
    "# Display the help document (사용설명서)\n",
    "pd?"
   ]
  },
  {
   "cell_type": "code",
   "execution_count": 5,
   "metadata": {},
   "outputs": [
    {
     "data": {
      "text/plain": [
       "'1.1.3'"
      ]
     },
     "execution_count": 5,
     "metadata": {},
     "output_type": "execute_result"
    }
   ],
   "source": [
    "# Print the version of pandas (버전확인)\n",
    "pd.__version__"
   ]
  },
  {
   "cell_type": "code",
   "execution_count": 6,
   "metadata": {},
   "outputs": [
    {
     "name": "stdout",
     "output_type": "stream",
     "text": [
      "0    0.25\n",
      "1    0.50\n",
      "2    0.75\n",
      "3    1.00\n",
      "dtype: float64\n",
      "<class 'pandas.core.series.Series'> \n",
      "\n"
     ]
    }
   ],
   "source": [
    "\"\"\"\n",
    "    Pandas Object: Series\n",
    "\"\"\"\n",
    "# Create a series from an array\n",
    "\n",
    "ser = pd.Series([0.25, 0.5, 0.75, 1.0]) \n",
    "# 왜 앞에가 대문자? 약간 특별하면 이렇게 표현 -> constructor method \n",
    "# Series는 pandas에서 제공하는 주요 자료구조로써 라이브러리안에 보면 Series라는 class 구현돼있음. 실제 프로그램에서 사용하려면 객체를 생성해야함. 객체 생성하는 메서드는 해당 class 이름으로(Sereies)\n",
    "print(ser)\n",
    "print(type(ser), '\\n')"
   ]
  },
  {
   "cell_type": "code",
   "execution_count": 7,
   "metadata": {},
   "outputs": [
    {
     "name": "stdout",
     "output_type": "stream",
     "text": [
      "[0.25 0.5  0.75 1.  ]\n",
      "RangeIndex(start=0, stop=4, step=1)\n"
     ]
    }
   ],
   "source": [
    "# Two main attributes: 'values' and 'index'\n",
    "\n",
    "# value값 필요할 때\n",
    "arr = ser.values\n",
    "print(arr)\n",
    "\n",
    "# index값 필요할 때\n",
    "ind = ser.index\n",
    "print(ind)"
   ]
  },
  {
   "cell_type": "code",
   "execution_count": 8,
   "metadata": {},
   "outputs": [
    {
     "name": "stdout",
     "output_type": "stream",
     "text": [
      "a    0.25\n",
      "b    0.50\n",
      "c    0.75\n",
      "d    1.00\n",
      "dtype: float64\n",
      "Index(['a', 'b', 'c', 'd'], dtype='object')\n"
     ]
    }
   ],
   "source": [
    "# Lable-based Indexing\n",
    "ser = pd.Series([0.25, 0.5, 0.75, 1.0], index=['a','b','c','d'])\n",
    "print(ser)\n",
    "ind = ser.index\n",
    "print(ind)\n",
    "# pandas도 암묵적 인덱스 지원하지만 레이블 기반으로 인덱스 할 수 있기 때문에 명시적"
   ]
  },
  {
   "cell_type": "code",
   "execution_count": 9,
   "metadata": {},
   "outputs": [
    {
     "name": "stdout",
     "output_type": "stream",
     "text": [
      "{'a': 1, 2: 'two', 'third': True}\n"
     ]
    }
   ],
   "source": [
    "\"\"\"\n",
    "Dictionary and Series\n",
    "\"\"\"\n",
    "\n",
    "dict = {'a' : 1, 2 : 'two', 'third' : True}\n",
    "print(dict)"
   ]
  },
  {
   "cell_type": "code",
   "execution_count": 10,
   "metadata": {},
   "outputs": [
    {
     "name": "stdout",
     "output_type": "stream",
     "text": [
      "a           1\n",
      "2         two\n",
      "third    True\n",
      "dtype: object\n",
      "California    38332521\n",
      "Texas         26448193\n",
      "New York      19651127\n",
      "Florida       19552860\n",
      "Illinois      12882135\n",
      "dtype: int64\n",
      "Texas       26448193\n",
      "New York    19651127\n",
      "Florida     19552860\n",
      "Illinois    12882135\n",
      "dtype: int64\n"
     ]
    }
   ],
   "source": [
    "\"\"\"\n",
    "Create a series from a dictionary\n",
    "\"\"\"\n",
    "# dictionary와 흡사\n",
    "ser = pd.Series(dict)\n",
    "print(ser)\n",
    "\n",
    "population_dict = {'California': 38332521,\n",
    "                   'Texas' : 26448193,\n",
    "                   \"New York\": 19651127,\n",
    "                   'Florida': 19552860,\n",
    "                   'Illinois': 12882135}\n",
    "\n",
    "population = pd.Series(population_dict)\n",
    "print(population)\n",
    "\n",
    "# Dictionary와 달리 Series는 슬라이싱 같은 배열 연산 지원함\n",
    "print(population['Texas' : 'Illinois'])\n"
   ]
  },
  {
   "cell_type": "code",
   "execution_count": 11,
   "metadata": {},
   "outputs": [
    {
     "name": "stdout",
     "output_type": "stream",
     "text": [
      "California    423967\n",
      "Texas         695662\n",
      "New York      141297\n",
      "Florida       170312\n",
      "Illinois      149995\n",
      "dtype: int64\n"
     ]
    }
   ],
   "source": [
    "\"\"\"\n",
    "    Pandas object: DataFrame\n",
    "\"\"\"\n",
    "area_dict = {'California': 423967, 'Texas' : 695662, \"New York\": 141297, 'Florida': 170312, 'Illinois': 149995}\n",
    "\n",
    "area = pd.Series(area_dict)\n",
    "print(area)"
   ]
  },
  {
   "cell_type": "code",
   "execution_count": 12,
   "metadata": {},
   "outputs": [
    {
     "name": "stdout",
     "output_type": "stream",
     "text": [
      "            population    area\n",
      "California    38332521  423967\n",
      "Texas         26448193  695662\n",
      "New York      19651127  141297\n",
      "Florida       19552860  170312\n",
      "Illinois      12882135  149995\n",
      "Index(['California', 'Texas', 'New York', 'Florida', 'Illinois'], dtype='object')\n",
      "Index(['population', 'area'], dtype='object')\n",
      "California    38332521\n",
      "Texas         26448193\n",
      "New York      19651127\n",
      "Florida       19552860\n",
      "Illinois      12882135\n",
      "Name: population, dtype: int64\n"
     ]
    }
   ],
   "source": [
    "# Construct a DataFrame containing 'population' and 'area' Series\n",
    "\n",
    "states = pd.DataFrame({'population': population, 'area': area})\n",
    "print(states)\n",
    "\n",
    "print(states.index)\n",
    "print(states.columns) # column 선택\n",
    "print(states['population'])"
   ]
  },
  {
   "cell_type": "code",
   "execution_count": 13,
   "metadata": {},
   "outputs": [
    {
     "name": "stdout",
     "output_type": "stream",
     "text": [
      "[[0.80222594 0.81302874]\n",
      " [0.87540879 0.94909441]\n",
      " [0.00597701 0.5607905 ]] \n",
      "\n"
     ]
    },
    {
     "data": {
      "text/html": [
       "<div>\n",
       "<style scoped>\n",
       "    .dataframe tbody tr th:only-of-type {\n",
       "        vertical-align: middle;\n",
       "    }\n",
       "\n",
       "    .dataframe tbody tr th {\n",
       "        vertical-align: top;\n",
       "    }\n",
       "\n",
       "    .dataframe thead th {\n",
       "        text-align: right;\n",
       "    }\n",
       "</style>\n",
       "<table border=\"1\" class=\"dataframe\">\n",
       "  <thead>\n",
       "    <tr style=\"text-align: right;\">\n",
       "      <th></th>\n",
       "      <th>foo</th>\n",
       "      <th>bar</th>\n",
       "    </tr>\n",
       "  </thead>\n",
       "  <tbody>\n",
       "    <tr>\n",
       "      <th>a</th>\n",
       "      <td>0.802226</td>\n",
       "      <td>0.813029</td>\n",
       "    </tr>\n",
       "    <tr>\n",
       "      <th>b</th>\n",
       "      <td>0.875409</td>\n",
       "      <td>0.949094</td>\n",
       "    </tr>\n",
       "    <tr>\n",
       "      <th>c</th>\n",
       "      <td>0.005977</td>\n",
       "      <td>0.560791</td>\n",
       "    </tr>\n",
       "  </tbody>\n",
       "</table>\n",
       "</div>"
      ],
      "text/plain": [
       "        foo       bar\n",
       "a  0.802226  0.813029\n",
       "b  0.875409  0.949094\n",
       "c  0.005977  0.560791"
      ]
     },
     "execution_count": 13,
     "metadata": {},
     "output_type": "execute_result"
    }
   ],
   "source": [
    "# Construt a DataFrame from a 2D NumPy array\n",
    "arr = np.random.rand(3, 2)\n",
    "print(arr, '\\n')\n",
    "\n",
    "pd.DataFrame(arr, columns = ['foo', 'bar'], index=['a','b','c'])\n"
   ]
  },
  {
   "cell_type": "code",
   "execution_count": 14,
   "metadata": {},
   "outputs": [
    {
     "name": "stdout",
     "output_type": "stream",
     "text": [
      "Index(['a', 'b', 'c', 'd'], dtype='object')\n",
      "0.5\n",
      "True\n",
      "False\n"
     ]
    }
   ],
   "source": [
    "\"\"\"\n",
    "Series objects manipulation: dictionary-style\n",
    "\"\"\"\n",
    "\n",
    "ser = pd.Series([0.25, 0.5, 0.75, 1.0], index=['a','b','c','d'])\n",
    "\n",
    "print(ser.keys())\n",
    "print(ser['b'])\n",
    "print('a' in ser)\n",
    "print(0.25 in ser) # Key가 있는지 없는지만 알 수 있음. 0.25라는 key가 없기 때문에 False인 것"
   ]
  },
  {
   "cell_type": "code",
   "execution_count": 15,
   "metadata": {},
   "outputs": [
    {
     "name": "stdout",
     "output_type": "stream",
     "text": [
      "a    0.125\n",
      "b    0.500\n",
      "c    0.750\n",
      "d    1.000\n",
      "e    1.250\n",
      "dtype: float64 \n",
      "\n",
      "a    0.125\n",
      "b    0.500\n",
      "c    0.750\n",
      "dtype: float64 \n",
      "\n"
     ]
    }
   ],
   "source": [
    "\"\"\"\n",
    "Series object manipulation: array-style\n",
    "\"\"\"\n",
    "\n",
    "ser['e'] = 1.25\n",
    "ser['a'] = 0.125\n",
    "print(ser, '\\n')\n",
    "\n",
    "print(ser['a':'c'], '\\n') # slicing -> 원래 slicing은 s"
   ]
  },
  {
   "cell_type": "code",
   "execution_count": 26,
   "metadata": {},
   "outputs": [
    {
     "name": "stdout",
     "output_type": "stream",
     "text": [
      "            population    area     density\n",
      "California    38332521  423967   90.413926\n",
      "Texas         26448193  695662   38.018740\n",
      "New York      19651127  141297  139.076746\n",
      "Florida       19552860  170312  114.806121\n",
      "Illinois      12882135  149995   85.883763\n"
     ]
    }
   ],
   "source": [
    "\"\"\"\n",
    "Caution: Slicing Series object using explicit/implicit indexing\n",
    "\"\"\"\n",
    "\n",
    "states['density'] = states['population'] / states['area'] # 변수 출력할 때 공백문자 그대로 쓰면 에러. 따옴표로 묶어주기\n",
    "print(states)"
   ]
  },
  {
   "cell_type": "code",
   "execution_count": 29,
   "metadata": {},
   "outputs": [
    {
     "name": "stdout",
     "output_type": "stream",
     "text": [
      "            population    area     density\n",
      "California    38332521  423967   90.413926\n",
      "Texas         26448193  695662   38.018740\n",
      "New York      19651127  141297  139.076746\n",
      "Florida       19552860  170312  114.806121\n",
      "Illinois      12882135  149995   85.883763\n"
     ]
    },
    {
     "data": {
      "text/html": [
       "<div>\n",
       "<style scoped>\n",
       "    .dataframe tbody tr th:only-of-type {\n",
       "        vertical-align: middle;\n",
       "    }\n",
       "\n",
       "    .dataframe tbody tr th {\n",
       "        vertical-align: top;\n",
       "    }\n",
       "\n",
       "    .dataframe thead th {\n",
       "        text-align: right;\n",
       "    }\n",
       "</style>\n",
       "<table border=\"1\" class=\"dataframe\">\n",
       "  <thead>\n",
       "    <tr style=\"text-align: right;\">\n",
       "      <th></th>\n",
       "      <th>population</th>\n",
       "      <th>area</th>\n",
       "      <th>density</th>\n",
       "    </tr>\n",
       "  </thead>\n",
       "  <tbody>\n",
       "    <tr>\n",
       "      <th>New York</th>\n",
       "      <td>19651127</td>\n",
       "      <td>141297</td>\n",
       "      <td>139.076746</td>\n",
       "    </tr>\n",
       "    <tr>\n",
       "      <th>Florida</th>\n",
       "      <td>19552860</td>\n",
       "      <td>170312</td>\n",
       "      <td>114.806121</td>\n",
       "    </tr>\n",
       "    <tr>\n",
       "      <th>Illinois</th>\n",
       "      <td>12882135</td>\n",
       "      <td>149995</td>\n",
       "      <td>85.883763</td>\n",
       "    </tr>\n",
       "  </tbody>\n",
       "</table>\n",
       "</div>"
      ],
      "text/plain": [
       "          population    area     density\n",
       "New York    19651127  141297  139.076746\n",
       "Florida     19552860  170312  114.806121\n",
       "Illinois    12882135  149995   85.883763"
      ]
     },
     "execution_count": 29,
     "metadata": {},
     "output_type": "execute_result"
    }
   ],
   "source": [
    "# Indexer: Loc, iloc\n",
    "\n",
    "print(states)\n",
    "\n",
    "# states['New York'] (X) -> states로 접근할 때는 column만 가능. 특정 데이터 접근 위해서는 loc붙여줘야함\n",
    "states.loc['New York': 'Illinois'] \n",
    "# copy본이 아니기 때문에 원본 값이 바뀜\n",
    "\n",
    "# loc는 명시적 인덱스 참조, iloc는 암묵적 인덱스 참조 -> 구별해서 사용"
   ]
  },
  {
   "cell_type": "code",
   "execution_count": 30,
   "metadata": {},
   "outputs": [
    {
     "name": "stdout",
     "output_type": "stream",
     "text": [
      "          population     density\n",
      "New York    19651127  139.076746\n",
      "Florida     19552860  114.806121 \n",
      "\n"
     ]
    }
   ],
   "source": [
    "# Masking ans facy indexing usin the Loc indexer\n",
    "print(states.loc[states.density > 100, ['population', 'density']], '\\n')"
   ]
  }
 ],
 "metadata": {
  "kernelspec": {
   "display_name": "Python 3",
   "language": "python",
   "name": "python3"
  },
  "language_info": {
   "codemirror_mode": {
    "name": "ipython",
    "version": 3
   },
   "file_extension": ".py",
   "mimetype": "text/x-python",
   "name": "python",
   "nbconvert_exporter": "python",
   "pygments_lexer": "ipython3",
   "version": "3.8.5"
  }
 },
 "nbformat": 4,
 "nbformat_minor": 4
}
