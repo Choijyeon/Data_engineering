{
 "cells": [
  {
   "cell_type": "code",
   "execution_count": 1,
   "metadata": {},
   "outputs": [
    {
     "name": "stdout",
     "output_type": "stream",
     "text": [
      "1\n",
      "2\n",
      "3\n",
      "4\n",
      "5\n",
      "0\n",
      "1\n",
      "2\n",
      "3\n"
     ]
    }
   ],
   "source": [
    "\"\"\"\n",
    "for Loops\n",
    "\"\"\"\n",
    "\n",
    "nums = [1, 2, 3, 4, 5]\n",
    "for num in nums: # nums라는 객체 안에 있는 num이라는 각 아이템\n",
    "    print(num) #아이템 단순하게 출력 #들여쓰기 안하면 indentation error발생\n",
    "    \n",
    "# range()\n",
    "\n",
    "for i in range(4): # 4번 실행하고싶다면?\n",
    "    print(i)"
   ]
  },
  {
   "cell_type": "code",
   "execution_count": 2,
   "metadata": {},
   "outputs": [
    {
     "name": "stdout",
     "output_type": "stream",
     "text": [
      "1\n",
      "2\n",
      "4\n",
      "5\n",
      "2\n"
     ]
    }
   ],
   "source": [
    "\"\"\"\n",
    "continue Keyword\n",
    "\"\"\"\n",
    "nums = [1, 2, -1, 4, -5, 5, 2, -9]\n",
    "\n",
    "for num in nums:\n",
    "    # If num is negative, we skip it.\n",
    "    if num < 0: \n",
    "        continue # continue하는 일은 나머지 코드 실행하지않고 다음 턴으로 넘어감 > 음수면 출력하지않고 계속함 > 양수만 출력\n",
    "    print(num)"
   ]
  },
  {
   "cell_type": "code",
   "execution_count": 3,
   "metadata": {},
   "outputs": [
    {
     "name": "stdout",
     "output_type": "stream",
     "text": [
      "stage1is complete\n",
      "stage2is complete\n",
      "stage3is complete\n",
      "gameoveris complete\n",
      "stage4is complete\n",
      "stage5is complete\n",
      "stage1 is complete.\n",
      "stage2 is complete.\n",
      "stage3 is complete.\n",
      "Game is Over..\n"
     ]
    }
   ],
   "source": [
    "\"\"\"\n",
    "break Keyword\n",
    "\"\"\"\n",
    "\n",
    "game_plays = ['stage1', 'stage2', 'stage3', 'gameover', 'stage4', 'stage5']\n",
    "\n",
    "for play in game_plays:\n",
    "    print(play + \"is complete\")\n",
    "    \n",
    "# stage4에서 죽었을떄\n",
    "for play in game_plays:\n",
    "    \n",
    "    if play == 'gameover':\n",
    "        print(\"Game is Over..\")\n",
    "        break\n",
    "        \n",
    "    print(play + \" is complete.\")"
   ]
  },
  {
   "cell_type": "code",
   "execution_count": 4,
   "metadata": {},
   "outputs": [
    {
     "name": "stdout",
     "output_type": "stream",
     "text": [
      "[1, 2, 3, 4, 5, 6, 7, 8, 9, 10]\n"
     ]
    }
   ],
   "source": [
    "\"\"\"\n",
    "List Comprehension\n",
    "\"\"\"\n",
    "# 리스트 만들기\n",
    "# for i in range(10) 이것도 되지만\n",
    "# for i in range(1, 10) 스타트, 엔드 값 정할 수 있음\n",
    "\n",
    "one_to_ten = [i+1 for i in range(10)] # for앞에 내가 실행할 expresion작성\n",
    "print(one_to_ten)"
   ]
  },
  {
   "cell_type": "code",
   "execution_count": 5,
   "metadata": {},
   "outputs": [
    {
     "name": "stdout",
     "output_type": "stream",
     "text": [
      "['해리 케인', '탕기 온돔벨레']\n"
     ]
    }
   ],
   "source": [
    "\"\"\"\n",
    "List comprehension including conditions\n",
    "\"\"\"\n",
    "# 조건을 정해서 리스트 만들 수도 있음 / 주의! hotspurs의 item은 sublist들임. 각각의 값이 아님\n",
    "hotspurs = [['손흥민', 'A+'], ['해리 케인', 'F'], ['탕기 온돔벨레', 'F'], ['델리 알리', 'B'], ['루카스 모우라', 'B+'], ['이메르송', 'D']]\n",
    "\n",
    "# 모든 선수\n",
    "allpoors = [player[0] for player in hotspurs]\n",
    "\n",
    "# F받은 선수 출력\n",
    "poors = [player[0] for player in hotspurs if player[1] == 'F']\n",
    "\n",
    "print(poors)"
   ]
  },
  {
   "cell_type": "code",
   "execution_count": 6,
   "metadata": {},
   "outputs": [],
   "source": [
    "\"\"\"\n",
    "Nested Loops\n",
    "\"\"\"\n",
    "\n",
    "# 구구단 만들기 - 0 곱할 순 없으니까 +1 하기\n",
    "one_to_nine = [i+1 for i in range(9)]\n",
    "\n",
    "#for i in one_to_nine:\n",
    "#    for j in one_to_nine:\n",
    "#        print(\"%d X %d = %d\" % (i, j, i*j)) # C스타일. 만약 어떤 변수값과 출력을 복잡한 형태로 하고싶으면 %기호로 변수 지정할 수 있음\n",
    "        "
   ]
  },
  {
   "cell_type": "code",
   "execution_count": null,
   "metadata": {},
   "outputs": [],
   "source": [
    "x = 1\n",
    "y = 1\n",
    "\n",
    "while x < 5\n",
    "    print(\"Do Something\")\n",
    "    x += 1\n",
    "    # 만약 여기서 y += 1 처럼 엉뚱한 소리하면 무한반복됨\n"
   ]
  }
 ],
 "metadata": {
  "kernelspec": {
   "display_name": "Python 3",
   "language": "python",
   "name": "python3"
  },
  "language_info": {
   "codemirror_mode": {
    "name": "ipython",
    "version": 3
   },
   "file_extension": ".py",
   "mimetype": "text/x-python",
   "name": "python",
   "nbconvert_exporter": "python",
   "pygments_lexer": "ipython3",
   "version": "3.8.5"
  }
 },
 "nbformat": 4,
 "nbformat_minor": 4
}
